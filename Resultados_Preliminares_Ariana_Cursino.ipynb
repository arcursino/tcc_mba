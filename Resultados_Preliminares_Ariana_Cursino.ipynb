{
  "nbformat": 4,
  "nbformat_minor": 0,
  "metadata": {
    "colab": {
      "provenance": [],
      "authorship_tag": "ABX9TyM2xJbNrBs75eTLaTNi5436",
      "include_colab_link": true
    },
    "kernelspec": {
      "name": "python3",
      "display_name": "Python 3"
    },
    "language_info": {
      "name": "python"
    }
  },
  "cells": [
    {
      "cell_type": "markdown",
      "metadata": {
        "id": "view-in-github",
        "colab_type": "text"
      },
      "source": [
        "<a href=\"https://colab.research.google.com/github/arcursino/tcc_mba/blob/main/Resultados_Preliminares_Ariana_Cursino.ipynb\" target=\"_parent\"><img src=\"https://colab.research.google.com/assets/colab-badge.svg\" alt=\"Open In Colab\"/></a>"
      ]
    },
    {
      "cell_type": "code",
      "execution_count": null,
      "metadata": {
        "id": "MtaBHaFSPd6y"
      },
      "outputs": [],
      "source": [
        "import pandas as pd\n",
        "import numpy as np\n",
        "import matplotlib.pyplot as plt\n",
        "import seaborn as sns\n",
        "from pandas.api.types import is_numeric_dtype, is_object_dtype, is_categorical_dtype\n",
        "import pymc as pm\n",
        "import arviz as az\n",
        "import statsmodels.api as sm\n",
        "from statsmodels.genmod.bayes_mixed_glm import BinomialBayesMixedGLM\n",
        "from sklearn.preprocessing import StandardScaler\n",
        "import statsmodels.formula.api as smf"
      ]
    }
  ]
}